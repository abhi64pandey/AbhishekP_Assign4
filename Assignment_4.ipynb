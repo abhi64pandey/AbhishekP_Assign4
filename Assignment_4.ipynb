{
 "cells": [
  {
   "cell_type": "code",
   "execution_count": null,
   "id": "a850f082",
   "metadata": {},
   "outputs": [],
   "source": [
    "Q1 - What exactly is []?\n",
    "\n",
    "Solution:\n",
    "    \n",
    "The empty list value, which is a list value that contains no items. "
   ]
  },
  {
   "cell_type": "code",
   "execution_count": null,
   "id": "db6c934a",
   "metadata": {},
   "outputs": [],
   "source": [
    "Q2 - In a list of values stored in a variable called spam, \n",
    "how would you assign the value 'hello' as the third value? (Assume [2, 4, 6, 8, 10] are in spam.)\n",
    "\n",
    "Solution:\n",
    "\n",
    "spam[2] = 'hello'"
   ]
  },
  {
   "cell_type": "code",
   "execution_count": null,
   "id": "88d5ac1a",
   "metadata": {},
   "outputs": [],
   "source": [
    "Let's pretend the spam includes the list ['a', 'b', 'c', 'd'] for the next three queries.\n",
    "Q3 - What is the value of spam[int(int('3' * 2) / 11)]?\n",
    "\n",
    "Solution:\n",
    "\n",
    "'d'    "
   ]
  },
  {
   "cell_type": "code",
   "execution_count": null,
   "id": "ee110dc3",
   "metadata": {},
   "outputs": [],
   "source": [
    "Q4: What is the value of spam[-1]?\n",
    "    \n",
    "Solution:\n",
    "    \n",
    "'d'    "
   ]
  },
  {
   "cell_type": "code",
   "execution_count": null,
   "id": "298f2e4d",
   "metadata": {},
   "outputs": [],
   "source": [
    "Q5: What is the value of spam[:2]?\n",
    "\n",
    "Solution:\n",
    "\n",
    "['a', 'b']    "
   ]
  },
  {
   "cell_type": "code",
   "execution_count": null,
   "id": "138ac3e9",
   "metadata": {},
   "outputs": [],
   "source": [
    "Let's pretend bacon has the list [3.14, 'cat,' 11, 'cat,' True] for the next three questions.\n",
    "\n",
    "Q6: What is the value of bacon.index('cat')?\n",
    "\n",
    "Solution:\n",
    "\n",
    "1"
   ]
  },
  {
   "cell_type": "code",
   "execution_count": null,
   "id": "24fec5fb",
   "metadata": {},
   "outputs": [],
   "source": [
    "Q7: How does bacon.append(99) change the look of the list value in bacon?\n",
    "    \n",
    "Solution:\n",
    "\n",
    "[3.14, 'cat', 11, 'cat', True, 99]    "
   ]
  },
  {
   "cell_type": "code",
   "execution_count": null,
   "id": "762e8f19",
   "metadata": {},
   "outputs": [],
   "source": [
    "Q8: How does bacon.remove('cat') change the look of the list in bacon?\n",
    "    \n",
    "Solution:\n",
    "    \n",
    "[3.14, 11, 'cat', True]    "
   ]
  },
  {
   "cell_type": "code",
   "execution_count": null,
   "id": "f46b2fe6",
   "metadata": {},
   "outputs": [],
   "source": [
    "Q9: What are the list concatenation and list replication operators?\n",
    "    \n",
    "Solution:\n",
    "\n",
    "The operator for list concatenation is +, while the operator for replication is *.    "
   ]
  },
  {
   "cell_type": "code",
   "execution_count": null,
   "id": "d0f77253",
   "metadata": {},
   "outputs": [],
   "source": [
    "Q10: What is difference between the list methods append() and insert()?\n",
    "\n",
    "Solution:\n",
    "    \n",
    "Append() will add values only to the end of a list, insert() can add them anywhere in the list."
   ]
  },
  {
   "cell_type": "code",
   "execution_count": null,
   "id": "7ee2f557",
   "metadata": {},
   "outputs": [],
   "source": [
    "Q11: What are the two methods for removing items from a list?\n",
    "    \n",
    "Solution:\n",
    "\n",
    "The del statement and the remove() list method are two ways to remove values from a list.    "
   ]
  },
  {
   "cell_type": "code",
   "execution_count": null,
   "id": "abb4021b",
   "metadata": {},
   "outputs": [],
   "source": [
    "Q12: Describe how list values and string values are identical.\n",
    "  \n",
    "Solution:\n",
    "    \n",
    "Both lists and strings can be passed to len(), have indexes and slices,be used in for loops, \n",
    "be concatenated or replicated,\n",
    "and be used with the in and not in operators"
   ]
  },
  {
   "cell_type": "code",
   "execution_count": null,
   "id": "19c2bdb7",
   "metadata": {},
   "outputs": [],
   "source": [
    "Q13: What's the difference between tuples and lists?\n",
    "    \n",
    "Solution: \n",
    "    \n",
    "Lists are mutable; they can have values added, removed, or changed. \n",
    "Tuples are immutable; they cannot be changed at all.\n",
    "Tuples are written using parentheses, ( and ), while lists use the square brackets, [ and ]."
   ]
  },
  {
   "cell_type": "code",
   "execution_count": null,
   "id": "23fcd2d0",
   "metadata": {},
   "outputs": [],
   "source": [
    "Q14: How do you type a tuple value that only contains the integer 42?\n",
    "\n",
    "Solution:\n",
    "    \n",
    "(42,)"
   ]
  },
  {
   "cell_type": "code",
   "execution_count": null,
   "id": "793faf8b",
   "metadata": {},
   "outputs": [],
   "source": [
    "Q15: How do you get a list value's tuple form? How do you get a tuple value's list form?\n",
    "    \n",
    "Solution: \n",
    "    \n",
    "The tuple() and list() functions, respectively"
   ]
  },
  {
   "cell_type": "code",
   "execution_count": null,
   "id": "d81ed6f0",
   "metadata": {},
   "outputs": [],
   "source": [
    "Q16: Variables that \"contain\" list values are not necessarily lists themselves. Instead, what do they contain?\n",
    "    \n",
    "Solution:\n",
    "    \n",
    "It contain references to list values."
   ]
  },
  {
   "cell_type": "code",
   "execution_count": null,
   "id": "391cc507",
   "metadata": {},
   "outputs": [],
   "source": [
    "Q17: How do you distinguish between copy.copy() and copy.deepcopy()?\n",
    "    \n",
    "Solution:\n",
    "    \n",
    "The copy.copy() function will do a shallow copy of a list, while the copy.deepcopy() function will do a deep copy of a list. \n",
    "That is, only copy.deepcopy() will duplicate any lists inside the list."
   ]
  }
 ],
 "metadata": {
  "kernelspec": {
   "display_name": "Python 3 (ipykernel)",
   "language": "python",
   "name": "python3"
  },
  "language_info": {
   "codemirror_mode": {
    "name": "ipython",
    "version": 3
   },
   "file_extension": ".py",
   "mimetype": "text/x-python",
   "name": "python",
   "nbconvert_exporter": "python",
   "pygments_lexer": "ipython3",
   "version": "3.9.7"
  }
 },
 "nbformat": 4,
 "nbformat_minor": 5
}
